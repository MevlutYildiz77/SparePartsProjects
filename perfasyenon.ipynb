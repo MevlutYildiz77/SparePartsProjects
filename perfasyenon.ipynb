{
 "cells": [
  {
   "cell_type": "markdown",
   "metadata": {},
   "source": [
    "Stok No.\t\tMalzemenin stok numarasıdır.\n",
    "Malzemenin Adı\t\tMalzemenin fenni adıdır.\n",
    "Malzeme Kullanım Maksadı\t\tBakım çeşidine göre PERBAK, FASBAT, YENİLEŞTİRME ifadelerinden birisi yazılır.\n",
    "Ana Malzemesi\t\tKullanılan yedek parçanın kullanıldığı ana malzemesi\n",
    "Malzeme Değişim Yüzdesi\t\tMalzemenin belirlenen değişim yüzdesi yazılır.(%25, %50, %100, %3 gibi)\n",
    "Ana Malzeme Miktarı\t\tYedek parçanın kullanıldığı ana malzemenin/malzemelerin toplam miktarıdır.\n",
    "Araç Başına Kullanım Miktarı\t\tYedek parçanın birim araç başına kullanım adedidir.\n",
    "Plaka/Seri No.\t\tAna malzeme/silah sisteminin plaka varsa seri numarası\n",
    "Bakım Yapılma Durumu\t\tBakım yapıldıktan sonra \"Yapıldı\" diye yazılır.\n",
    "Bakım Yapılma Tarihi\t\tBakımın yapıldığı tarih yazılır.\n",
    "Sarf Yapılma Durumu\t\tMalzemenin sarfı yapıldıktan sonra \"Yapıldı\" diye yazılır.\n",
    "t-1 yılındaki bakım tarihi\t\tAna malzeme/silah sisteminin içinde bulunulan yıldan bir önceki yıl bakıma alındığı tarih\n",
    "t yılındaki bakım tarihi\t\tAna malzeme/silah sisteminin içinde bulunulan yıl bakıma alındığı tarih\n",
    "Bakım Yapılma Tarihi\t\tAna malzeme/silah sistemine fiilen bakımın yapıldığı tarih.\n",
    " t anında bakım yapılan ana malzeme miktarı\t\tHerhangi bir t zamanında bakım yapılan ana malzeme miktarıdır. Bakımı yapıldığı belirtilen ana malzeme/silah sisteminin toplam miktarıdır.\n",
    " t anında bakım yapılacak ana malzeme miktarı\t\tHerhangi bir t zamanında bakım yapılacak ana malzeme miktarıdır. Toplam ana malzeme miktarı ile bakımı yapıldığı belirtilen ana malzeme/silah sisteminin farkına eşittir.\n",
    "t-n'deki sarfın parasal tutarı\t\tAna malzemenin envantere girişinden içinde bulunulan yıla kadar ki döneme ait, kullanılıp sarf edilen mazemenin toplam parasal tutarıdır.\n",
    "toplam sarfın parasal tutarı\t\tAna malzemenin envantere girişinden içinde bulunulan yıl dahil, kullanılıp sarf edilen mazemenin toplam parasal tutarıdır.\n",
    "t yılı İstek Miktarı\t04 İsteği\tİçinde bulunulan yıl, İçinde bulunulan yıl için  PERBAK/FASBAT/ YENİLEŞTİRME kapsamında  istenen malzeme miktarı.\n",
    "\t05 İsteği\tİçinde bulunulan yıl, bir  yıl sonrası için PERBAK/FASBAT/ YENİLEŞTİRME kapsamında istenen malzeme miktarı.\n",
    "\t06 İsteği\tİçinde bulunulan yıl, İki  yıl sonrası için PERBAK/FASBAT/ YENİLEŞTİRME kapsamında istenen malzeme miktarı.\n",
    "\n",
    "Brl. İhtiyaç Miktarı\t\tMalzeme Değişim Yüzdesi, Ana Malzeme Miktarı ve Araç Başına Kullanım Miktarının çarpımınını 100'e bölünmesinden elde edilen sonuca eşittir.\n",
    "Depo Mevcudu\t\tBirlik deposunda bulunan yeni hanesindeki rakamlarn toplamıdır.\n",
    "Son ihtiyaç Miktarı\t\tDepo mevcudu ile birlik ihtiyaç miktarı arasındaki fark ile, içinde bulunulan yıldan bir yıl sonraki yıl, bir  yıl sonrası için PERBAK/FASBAT/ YENİLEŞTİRME kapsamında istenen malzeme miktarı. \n",
    "Birim Fiyatı\t\tMalzemenin birim fiyatıdır.\n",
    "Kaynak  İhtiyaç Miktarı\t\tİçinde bulunulan yıl için ihtiyaç duyulan kaynak miktarı.\n",
    "Harcanan Toplam Kaynak Miktarı\t\tİçinde bulunulan yıl dahil harcanan toplam kaynak miktarıdır.\n"
   ]
  },
  {
   "cell_type": "code",
   "execution_count": 1,
   "metadata": {},
   "outputs": [],
   "source": [
    "import pandas as pd\n",
    "import re\n"
   ]
  },
  {
   "cell_type": "code",
   "execution_count": 2,
   "metadata": {},
   "outputs": [],
   "source": [
    "#from .worksheet import Worksheet\n",
    "#from openpyxl.cell.read_only import ReadOnlyCell, EMPTY_CELL\n",
    "#from openpyxl.utils import get_column_letter\n",
    "#from ._reader import WorkSheetParser"
   ]
  },
  {
   "cell_type": "code",
   "execution_count": 3,
   "metadata": {},
   "outputs": [
    {
     "data": {
      "text/html": [
       "<div>\n",
       "<style scoped>\n",
       "    .dataframe tbody tr th:only-of-type {\n",
       "        vertical-align: middle;\n",
       "    }\n",
       "\n",
       "    .dataframe tbody tr th {\n",
       "        vertical-align: top;\n",
       "    }\n",
       "\n",
       "    .dataframe thead th {\n",
       "        text-align: right;\n",
       "    }\n",
       "</style>\n",
       "<table border=\"1\" class=\"dataframe\">\n",
       "  <thead>\n",
       "    <tr style=\"text-align: right;\">\n",
       "      <th></th>\n",
       "      <th>S.No.</th>\n",
       "      <th>Kullanim Amaci</th>\n",
       "      <th>Stok No.</th>\n",
       "      <th>Malzemenin \\nAd?</th>\n",
       "      <th>Malzeme De?i?im Periyodu</th>\n",
       "      <th>Ana \\nMalzemesi</th>\n",
       "      <th>Ana Malzeme Miktar?-y</th>\n",
       "      <th>Araç Ba??na Kullan?m Miktar?-z</th>\n",
       "      <th>Yil Ici Istek Yapma Sayisi-k</th>\n",
       "      <th>t y?l? ?stek Miktar?-04 istegi\\nc=a-b</th>\n",
       "      <th>t y?l? ?stek Miktar?-05 istegi-d</th>\n",
       "      <th>t y?l? ?stek Miktar?-06 istegi-e</th>\n",
       "      <th>Brl.\\n?htiyaç Miktar?\\na=y*z</th>\n",
       "      <th>Depo Mevcudu-b</th>\n",
       "      <th>Gelecek Miktar\\nf</th>\n",
       "      <th>Son ihtiyaç Miktar?\\ng=c-f</th>\n",
       "      <th>Birim Fiyati\\nh</th>\n",
       "      <th>Kaynak Ihtiyac Miktari\\ni</th>\n",
       "    </tr>\n",
       "  </thead>\n",
       "  <tbody>\n",
       "    <tr>\n",
       "      <th>0</th>\n",
       "      <td>1</td>\n",
       "      <td>PERBAK/FASBAT/YEN?LE?T?RME MALZEMELER?</td>\n",
       "      <td>2815-01-295-7458 - 2815012957458</td>\n",
       "      <td>1</td>\n",
       "      <td>1</td>\n",
       "      <td>ENGINE, DIESEL</td>\n",
       "      <td>125</td>\n",
       "      <td>1</td>\n",
       "      <td>1</td>\n",
       "      <td>79</td>\n",
       "      <td>125</td>\n",
       "      <td>125</td>\n",
       "      <td>125</td>\n",
       "      <td>46</td>\n",
       "      <td>42</td>\n",
       "      <td>37</td>\n",
       "      <td>235</td>\n",
       "      <td>8695</td>\n",
       "    </tr>\n",
       "    <tr>\n",
       "      <th>1</th>\n",
       "      <td>2</td>\n",
       "      <td>PERBAK/FASBAT/YEN?LE?T?RME MALZEMELER?</td>\n",
       "      <td>2815-01-111-2262 - 2815011112262</td>\n",
       "      <td>2</td>\n",
       "      <td>2</td>\n",
       "      <td>ENGINE, DIESEL</td>\n",
       "      <td>125</td>\n",
       "      <td>4</td>\n",
       "      <td>1</td>\n",
       "      <td>493</td>\n",
       "      <td>500</td>\n",
       "      <td>500</td>\n",
       "      <td>500</td>\n",
       "      <td>7</td>\n",
       "      <td>84</td>\n",
       "      <td>409</td>\n",
       "      <td>46</td>\n",
       "      <td>18814</td>\n",
       "    </tr>\n",
       "    <tr>\n",
       "      <th>2</th>\n",
       "      <td>3</td>\n",
       "      <td>PERBAK/FASBAT/YEN?LE?T?RME MALZEMELER?</td>\n",
       "      <td>2815-01-461-7078 - 2815014617078</td>\n",
       "      <td>3</td>\n",
       "      <td>3</td>\n",
       "      <td>ENGINE, DIESEL</td>\n",
       "      <td>125</td>\n",
       "      <td>3</td>\n",
       "      <td>2</td>\n",
       "      <td>699</td>\n",
       "      <td>750</td>\n",
       "      <td>750</td>\n",
       "      <td>750</td>\n",
       "      <td>51</td>\n",
       "      <td>9</td>\n",
       "      <td>690</td>\n",
       "      <td>110</td>\n",
       "      <td>75900</td>\n",
       "    </tr>\n",
       "    <tr>\n",
       "      <th>3</th>\n",
       "      <td>4</td>\n",
       "      <td>PERBAK/FASBAT/YEN?LE?T?RME MALZEMELER?</td>\n",
       "      <td>2815-00-134-4666 - 2815001344666</td>\n",
       "      <td>4</td>\n",
       "      <td>2</td>\n",
       "      <td>ENGINE, DIESEL</td>\n",
       "      <td>125</td>\n",
       "      <td>1</td>\n",
       "      <td>1</td>\n",
       "      <td>103</td>\n",
       "      <td>125</td>\n",
       "      <td>125</td>\n",
       "      <td>125</td>\n",
       "      <td>22</td>\n",
       "      <td>32</td>\n",
       "      <td>71</td>\n",
       "      <td>223</td>\n",
       "      <td>15833</td>\n",
       "    </tr>\n",
       "    <tr>\n",
       "      <th>4</th>\n",
       "      <td>5</td>\n",
       "      <td>PERBAK/FASBAT/YEN?LE?T?RME MALZEMELER?</td>\n",
       "      <td>2815-01-432-1336 - 2815014321336</td>\n",
       "      <td>5</td>\n",
       "      <td>3</td>\n",
       "      <td>ENGINE, DIESEL</td>\n",
       "      <td>125</td>\n",
       "      <td>2</td>\n",
       "      <td>2</td>\n",
       "      <td>468</td>\n",
       "      <td>500</td>\n",
       "      <td>500</td>\n",
       "      <td>500</td>\n",
       "      <td>32</td>\n",
       "      <td>89</td>\n",
       "      <td>379</td>\n",
       "      <td>245</td>\n",
       "      <td>92855</td>\n",
       "    </tr>\n",
       "  </tbody>\n",
       "</table>\n",
       "</div>"
      ],
      "text/plain": [
       "   S.No.                           Kullanim Amaci  \\\n",
       "0      1   PERBAK/FASBAT/YEN?LE?T?RME MALZEMELER?   \n",
       "1      2   PERBAK/FASBAT/YEN?LE?T?RME MALZEMELER?   \n",
       "2      3   PERBAK/FASBAT/YEN?LE?T?RME MALZEMELER?   \n",
       "3      4   PERBAK/FASBAT/YEN?LE?T?RME MALZEMELER?   \n",
       "4      5   PERBAK/FASBAT/YEN?LE?T?RME MALZEMELER?   \n",
       "\n",
       "                           Stok No.  Malzemenin \\nAd?  \\\n",
       "0  2815-01-295-7458 - 2815012957458                 1   \n",
       "1  2815-01-111-2262 - 2815011112262                 2   \n",
       "2  2815-01-461-7078 - 2815014617078                 3   \n",
       "3  2815-00-134-4666 - 2815001344666                 4   \n",
       "4  2815-01-432-1336 - 2815014321336                 5   \n",
       "\n",
       "   Malzeme De?i?im Periyodu Ana \\nMalzemesi  Ana Malzeme Miktar?-y  \\\n",
       "0                         1  ENGINE, DIESEL                    125   \n",
       "1                         2  ENGINE, DIESEL                    125   \n",
       "2                         3  ENGINE, DIESEL                    125   \n",
       "3                         2  ENGINE, DIESEL                    125   \n",
       "4                         3  ENGINE, DIESEL                    125   \n",
       "\n",
       "   Araç Ba??na Kullan?m Miktar?-z  Yil Ici Istek Yapma Sayisi-k  \\\n",
       "0                               1                             1   \n",
       "1                               4                             1   \n",
       "2                               3                             2   \n",
       "3                               1                             1   \n",
       "4                               2                             2   \n",
       "\n",
       "   t y?l? ?stek Miktar?-04 istegi\\nc=a-b  t y?l? ?stek Miktar?-05 istegi-d  \\\n",
       "0                                     79                               125   \n",
       "1                                    493                               500   \n",
       "2                                    699                               750   \n",
       "3                                    103                               125   \n",
       "4                                    468                               500   \n",
       "\n",
       "   t y?l? ?stek Miktar?-06 istegi-e  Brl.\\n?htiyaç Miktar?\\na=y*z  \\\n",
       "0                               125                           125   \n",
       "1                               500                           500   \n",
       "2                               750                           750   \n",
       "3                               125                           125   \n",
       "4                               500                           500   \n",
       "\n",
       "   Depo Mevcudu-b  Gelecek Miktar\\nf  Son ihtiyaç Miktar?\\ng=c-f  \\\n",
       "0              46                 42                          37   \n",
       "1               7                 84                         409   \n",
       "2              51                  9                         690   \n",
       "3              22                 32                          71   \n",
       "4              32                 89                         379   \n",
       "\n",
       "   Birim Fiyati\\nh  Kaynak Ihtiyac Miktari\\ni  \n",
       "0              235                       8695  \n",
       "1               46                      18814  \n",
       "2              110                      75900  \n",
       "3              223                      15833  \n",
       "4              245                      92855  "
      ]
     },
     "execution_count": 3,
     "metadata": {},
     "output_type": "execute_result"
    }
   ],
   "source": [
    "df = pd.read_csv(\"perfasyenon.csv\", encoding=\"latin-1\", sep=\";\")\n",
    "df.head()"
   ]
  },
  {
   "cell_type": "code",
   "execution_count": 4,
   "metadata": {},
   "outputs": [],
   "source": [
    "sutun_adlari = {'Kullanim Amaci': 'KullanimAmaci',\n",
    "                'S.No.': 'S_No', 'Stok No.': 'StokNo',\n",
    "                'Malzemenin \\nAd?': 'MalzemeninAdi', 'Malzeme De?i?im Periyodu': 'MalzemeDegisimPeriyodu',\n",
    "                'Ana \\nMalzemesi': 'AnaMalzemesi', 'Ana Malzeme Miktar?-y': 'AnaMalzemeMiktari',\n",
    "                'Araç Ba??na Kullan?m Miktar?-z': 'AraçBasinaKullanimMiktari',\n",
    "                'Yil Ici Istek Yapma Sayisi-k': 'YilIciIstekYapmaSayisi',\n",
    "                't y?l? ?stek Miktar?-04 istegi\\nc=a-b': '04istegi', 't y?l? ?stek Miktar?-05 istegi-d': '05istegi',\n",
    "                't y?l? ?stek Miktar?-06 istegi-e': '06istegi',\n",
    "                'Brl.\\n?htiyaç Miktar?\\na=y*z': 'IhtiyacMiktari', 'Depo Mevcudu-b': 'DepoMevcudu',\n",
    "                'Gelecek Miktar\\nf': 'GelecekMiktar', 'Son ihtiyaç Miktar?\\ng=c-f': 'SonihtiyacMiktari',\n",
    "                'Birim Fiyati\\nh': 'BirimFiyati', 'Kaynak Ihtiyac Miktari\\ni': 'KaynakIhtiyacMiktari'}\n",
    "df.rename(columns=sutun_adlari, inplace=True)"
   ]
  },
  {
   "cell_type": "markdown",
   "metadata": {},
   "source": [
    "Veri boyutu nedir?(Satir sütun sayisi)"
   ]
  },
  {
   "cell_type": "code",
   "execution_count": 5,
   "metadata": {},
   "outputs": [
    {
     "data": {
      "text/plain": [
       "(400, 18)"
      ]
     },
     "execution_count": 5,
     "metadata": {},
     "output_type": "execute_result"
    }
   ],
   "source": [
    "df.shape"
   ]
  },
  {
   "cell_type": "markdown",
   "metadata": {},
   "source": [
    "Tablo özeti"
   ]
  },
  {
   "cell_type": "code",
   "execution_count": 6,
   "metadata": {},
   "outputs": [
    {
     "name": "stdout",
     "output_type": "stream",
     "text": [
      "<class 'pandas.core.frame.DataFrame'>\n",
      "RangeIndex: 400 entries, 0 to 399\n",
      "Data columns (total 18 columns):\n",
      " #   Column                     Non-Null Count  Dtype \n",
      "---  ------                     --------------  ----- \n",
      " 0   S_No                       400 non-null    int64 \n",
      " 1   KullanimAmaci              400 non-null    object\n",
      " 2   StokNo                     400 non-null    object\n",
      " 3   MalzemeninAdi              400 non-null    int64 \n",
      " 4   MalzemeDegisimPeriyodu     400 non-null    int64 \n",
      " 5   AnaMalzemesi               400 non-null    object\n",
      " 6   AnaMalzemeMiktari          400 non-null    int64 \n",
      " 7   AraçBasinaKullanimMiktari  400 non-null    int64 \n",
      " 8   YilIciIstekYapmaSayisi     400 non-null    int64 \n",
      " 9   04istegi                   400 non-null    int64 \n",
      " 10  05istegi                   400 non-null    int64 \n",
      " 11  06istegi                   400 non-null    int64 \n",
      " 12  IhtiyacMiktari             400 non-null    int64 \n",
      " 13  DepoMevcudu                400 non-null    int64 \n",
      " 14  GelecekMiktar              400 non-null    int64 \n",
      " 15  SonihtiyacMiktari          400 non-null    int64 \n",
      " 16  BirimFiyati                400 non-null    int64 \n",
      " 17  KaynakIhtiyacMiktari       400 non-null    int64 \n",
      "dtypes: int64(15), object(3)\n",
      "memory usage: 56.4+ KB\n"
     ]
    }
   ],
   "source": [
    "df.info()"
   ]
  },
  {
   "cell_type": "code",
   "execution_count": 7,
   "metadata": {},
   "outputs": [
    {
     "data": {
      "text/html": [
       "<div>\n",
       "<style scoped>\n",
       "    .dataframe tbody tr th:only-of-type {\n",
       "        vertical-align: middle;\n",
       "    }\n",
       "\n",
       "    .dataframe tbody tr th {\n",
       "        vertical-align: top;\n",
       "    }\n",
       "\n",
       "    .dataframe thead th {\n",
       "        text-align: right;\n",
       "    }\n",
       "</style>\n",
       "<table border=\"1\" class=\"dataframe\">\n",
       "  <thead>\n",
       "    <tr style=\"text-align: right;\">\n",
       "      <th></th>\n",
       "      <th>S_No</th>\n",
       "      <th>MalzemeninAdi</th>\n",
       "      <th>MalzemeDegisimPeriyodu</th>\n",
       "      <th>AnaMalzemeMiktari</th>\n",
       "      <th>AraçBasinaKullanimMiktari</th>\n",
       "      <th>YilIciIstekYapmaSayisi</th>\n",
       "      <th>04istegi</th>\n",
       "      <th>05istegi</th>\n",
       "      <th>06istegi</th>\n",
       "      <th>IhtiyacMiktari</th>\n",
       "      <th>DepoMevcudu</th>\n",
       "      <th>GelecekMiktar</th>\n",
       "      <th>SonihtiyacMiktari</th>\n",
       "      <th>BirimFiyati</th>\n",
       "      <th>KaynakIhtiyacMiktari</th>\n",
       "    </tr>\n",
       "  </thead>\n",
       "  <tbody>\n",
       "    <tr>\n",
       "      <th>count</th>\n",
       "      <td>400.000000</td>\n",
       "      <td>400.000000</td>\n",
       "      <td>400.000000</td>\n",
       "      <td>400.0</td>\n",
       "      <td>400.000000</td>\n",
       "      <td>400.000000</td>\n",
       "      <td>400.000000</td>\n",
       "      <td>400.000000</td>\n",
       "      <td>400.000000</td>\n",
       "      <td>400.000000</td>\n",
       "      <td>400.000000</td>\n",
       "      <td>400.000000</td>\n",
       "      <td>400.000000</td>\n",
       "      <td>400.000000</td>\n",
       "      <td>400.000000</td>\n",
       "    </tr>\n",
       "    <tr>\n",
       "      <th>mean</th>\n",
       "      <td>200.500000</td>\n",
       "      <td>200.500000</td>\n",
       "      <td>1.965000</td>\n",
       "      <td>125.0</td>\n",
       "      <td>2.530000</td>\n",
       "      <td>1.330000</td>\n",
       "      <td>389.682500</td>\n",
       "      <td>420.000000</td>\n",
       "      <td>420.000000</td>\n",
       "      <td>420.000000</td>\n",
       "      <td>30.317500</td>\n",
       "      <td>50.625000</td>\n",
       "      <td>339.057500</td>\n",
       "      <td>127.342500</td>\n",
       "      <td>42650.507500</td>\n",
       "    </tr>\n",
       "    <tr>\n",
       "      <th>std</th>\n",
       "      <td>115.614301</td>\n",
       "      <td>115.614301</td>\n",
       "      <td>0.833975</td>\n",
       "      <td>0.0</td>\n",
       "      <td>1.105511</td>\n",
       "      <td>0.470802</td>\n",
       "      <td>240.342001</td>\n",
       "      <td>239.615136</td>\n",
       "      <td>239.615136</td>\n",
       "      <td>239.615136</td>\n",
       "      <td>18.103481</td>\n",
       "      <td>30.958204</td>\n",
       "      <td>243.111728</td>\n",
       "      <td>74.567728</td>\n",
       "      <td>44440.354319</td>\n",
       "    </tr>\n",
       "    <tr>\n",
       "      <th>min</th>\n",
       "      <td>1.000000</td>\n",
       "      <td>1.000000</td>\n",
       "      <td>1.000000</td>\n",
       "      <td>125.0</td>\n",
       "      <td>1.000000</td>\n",
       "      <td>1.000000</td>\n",
       "      <td>65.000000</td>\n",
       "      <td>125.000000</td>\n",
       "      <td>125.000000</td>\n",
       "      <td>125.000000</td>\n",
       "      <td>0.000000</td>\n",
       "      <td>1.000000</td>\n",
       "      <td>-29.000000</td>\n",
       "      <td>1.000000</td>\n",
       "      <td>-5249.000000</td>\n",
       "    </tr>\n",
       "    <tr>\n",
       "      <th>25%</th>\n",
       "      <td>100.750000</td>\n",
       "      <td>100.750000</td>\n",
       "      <td>1.000000</td>\n",
       "      <td>125.0</td>\n",
       "      <td>2.000000</td>\n",
       "      <td>1.000000</td>\n",
       "      <td>214.750000</td>\n",
       "      <td>250.000000</td>\n",
       "      <td>250.000000</td>\n",
       "      <td>250.000000</td>\n",
       "      <td>14.750000</td>\n",
       "      <td>23.000000</td>\n",
       "      <td>160.750000</td>\n",
       "      <td>59.750000</td>\n",
       "      <td>9413.000000</td>\n",
       "    </tr>\n",
       "    <tr>\n",
       "      <th>50%</th>\n",
       "      <td>200.500000</td>\n",
       "      <td>200.500000</td>\n",
       "      <td>2.000000</td>\n",
       "      <td>125.0</td>\n",
       "      <td>3.000000</td>\n",
       "      <td>1.000000</td>\n",
       "      <td>352.000000</td>\n",
       "      <td>375.000000</td>\n",
       "      <td>375.000000</td>\n",
       "      <td>375.000000</td>\n",
       "      <td>30.000000</td>\n",
       "      <td>49.000000</td>\n",
       "      <td>316.500000</td>\n",
       "      <td>130.000000</td>\n",
       "      <td>29916.000000</td>\n",
       "    </tr>\n",
       "    <tr>\n",
       "      <th>75%</th>\n",
       "      <td>300.250000</td>\n",
       "      <td>300.250000</td>\n",
       "      <td>3.000000</td>\n",
       "      <td>125.0</td>\n",
       "      <td>4.000000</td>\n",
       "      <td>2.000000</td>\n",
       "      <td>483.000000</td>\n",
       "      <td>500.000000</td>\n",
       "      <td>500.000000</td>\n",
       "      <td>500.000000</td>\n",
       "      <td>47.000000</td>\n",
       "      <td>79.000000</td>\n",
       "      <td>438.250000</td>\n",
       "      <td>193.250000</td>\n",
       "      <td>61871.250000</td>\n",
       "    </tr>\n",
       "    <tr>\n",
       "      <th>max</th>\n",
       "      <td>400.000000</td>\n",
       "      <td>400.000000</td>\n",
       "      <td>3.000000</td>\n",
       "      <td>125.0</td>\n",
       "      <td>4.000000</td>\n",
       "      <td>2.000000</td>\n",
       "      <td>1000.000000</td>\n",
       "      <td>1000.000000</td>\n",
       "      <td>1000.000000</td>\n",
       "      <td>1000.000000</td>\n",
       "      <td>60.000000</td>\n",
       "      <td>100.000000</td>\n",
       "      <td>997.000000</td>\n",
       "      <td>249.000000</td>\n",
       "      <td>234608.000000</td>\n",
       "    </tr>\n",
       "  </tbody>\n",
       "</table>\n",
       "</div>"
      ],
      "text/plain": [
       "             S_No  MalzemeninAdi  MalzemeDegisimPeriyodu  AnaMalzemeMiktari  \\\n",
       "count  400.000000     400.000000              400.000000              400.0   \n",
       "mean   200.500000     200.500000                1.965000              125.0   \n",
       "std    115.614301     115.614301                0.833975                0.0   \n",
       "min      1.000000       1.000000                1.000000              125.0   \n",
       "25%    100.750000     100.750000                1.000000              125.0   \n",
       "50%    200.500000     200.500000                2.000000              125.0   \n",
       "75%    300.250000     300.250000                3.000000              125.0   \n",
       "max    400.000000     400.000000                3.000000              125.0   \n",
       "\n",
       "       AraçBasinaKullanimMiktari  YilIciIstekYapmaSayisi     04istegi  \\\n",
       "count                 400.000000              400.000000   400.000000   \n",
       "mean                    2.530000                1.330000   389.682500   \n",
       "std                     1.105511                0.470802   240.342001   \n",
       "min                     1.000000                1.000000    65.000000   \n",
       "25%                     2.000000                1.000000   214.750000   \n",
       "50%                     3.000000                1.000000   352.000000   \n",
       "75%                     4.000000                2.000000   483.000000   \n",
       "max                     4.000000                2.000000  1000.000000   \n",
       "\n",
       "          05istegi     06istegi  IhtiyacMiktari  DepoMevcudu  GelecekMiktar  \\\n",
       "count   400.000000   400.000000      400.000000   400.000000     400.000000   \n",
       "mean    420.000000   420.000000      420.000000    30.317500      50.625000   \n",
       "std     239.615136   239.615136      239.615136    18.103481      30.958204   \n",
       "min     125.000000   125.000000      125.000000     0.000000       1.000000   \n",
       "25%     250.000000   250.000000      250.000000    14.750000      23.000000   \n",
       "50%     375.000000   375.000000      375.000000    30.000000      49.000000   \n",
       "75%     500.000000   500.000000      500.000000    47.000000      79.000000   \n",
       "max    1000.000000  1000.000000     1000.000000    60.000000     100.000000   \n",
       "\n",
       "       SonihtiyacMiktari  BirimFiyati  KaynakIhtiyacMiktari  \n",
       "count         400.000000   400.000000            400.000000  \n",
       "mean          339.057500   127.342500          42650.507500  \n",
       "std           243.111728    74.567728          44440.354319  \n",
       "min           -29.000000     1.000000          -5249.000000  \n",
       "25%           160.750000    59.750000           9413.000000  \n",
       "50%           316.500000   130.000000          29916.000000  \n",
       "75%           438.250000   193.250000          61871.250000  \n",
       "max           997.000000   249.000000         234608.000000  "
      ]
     },
     "execution_count": 7,
     "metadata": {},
     "output_type": "execute_result"
    }
   ],
   "source": [
    "df.describe()"
   ]
  },
  {
   "cell_type": "markdown",
   "metadata": {},
   "source": [
    "Sütun adlari nelerdir?"
   ]
  },
  {
   "cell_type": "code",
   "execution_count": 8,
   "metadata": {},
   "outputs": [
    {
     "data": {
      "text/plain": [
       "Index(['S_No', 'KullanimAmaci', 'StokNo', 'MalzemeninAdi',\n",
       "       'MalzemeDegisimPeriyodu', 'AnaMalzemesi', 'AnaMalzemeMiktari',\n",
       "       'AraçBasinaKullanimMiktari', 'YilIciIstekYapmaSayisi', '04istegi',\n",
       "       '05istegi', '06istegi', 'IhtiyacMiktari', 'DepoMevcudu',\n",
       "       'GelecekMiktar', 'SonihtiyacMiktari', 'BirimFiyati',\n",
       "       'KaynakIhtiyacMiktari'],\n",
       "      dtype='object')"
      ]
     },
     "execution_count": 8,
     "metadata": {},
     "output_type": "execute_result"
    }
   ],
   "source": [
    "df.columns"
   ]
  },
  {
   "cell_type": "code",
   "execution_count": 9,
   "metadata": {},
   "outputs": [
    {
     "data": {
      "text/html": [
       "<div>\n",
       "<style scoped>\n",
       "    .dataframe tbody tr th:only-of-type {\n",
       "        vertical-align: middle;\n",
       "    }\n",
       "\n",
       "    .dataframe tbody tr th {\n",
       "        vertical-align: top;\n",
       "    }\n",
       "\n",
       "    .dataframe thead th {\n",
       "        text-align: right;\n",
       "    }\n",
       "</style>\n",
       "<table border=\"1\" class=\"dataframe\">\n",
       "  <thead>\n",
       "    <tr style=\"text-align: right;\">\n",
       "      <th></th>\n",
       "      <th>S_No</th>\n",
       "      <th>KullanimAmaci</th>\n",
       "      <th>StokNo</th>\n",
       "      <th>MalzemeninAdi</th>\n",
       "      <th>MalzemeDegisimPeriyodu</th>\n",
       "      <th>AnaMalzemesi</th>\n",
       "      <th>AnaMalzemeMiktari</th>\n",
       "      <th>AraçBasinaKullanimMiktari</th>\n",
       "      <th>YilIciIstekYapmaSayisi</th>\n",
       "      <th>04istegi</th>\n",
       "      <th>05istegi</th>\n",
       "      <th>06istegi</th>\n",
       "      <th>IhtiyacMiktari</th>\n",
       "      <th>DepoMevcudu</th>\n",
       "      <th>GelecekMiktar</th>\n",
       "      <th>SonihtiyacMiktari</th>\n",
       "      <th>BirimFiyati</th>\n",
       "      <th>KaynakIhtiyacMiktari</th>\n",
       "    </tr>\n",
       "  </thead>\n",
       "  <tbody>\n",
       "    <tr>\n",
       "      <th>0</th>\n",
       "      <td>1</td>\n",
       "      <td>PERBAK/FASBAT/YEN?LE?T?RME MALZEMELER?</td>\n",
       "      <td>2815-01-295-7458 - 2815012957458</td>\n",
       "      <td>1</td>\n",
       "      <td>1</td>\n",
       "      <td>ENGINE, DIESEL</td>\n",
       "      <td>125</td>\n",
       "      <td>1</td>\n",
       "      <td>1</td>\n",
       "      <td>79</td>\n",
       "      <td>125</td>\n",
       "      <td>125</td>\n",
       "      <td>125</td>\n",
       "      <td>46</td>\n",
       "      <td>42</td>\n",
       "      <td>37</td>\n",
       "      <td>235</td>\n",
       "      <td>8695</td>\n",
       "    </tr>\n",
       "    <tr>\n",
       "      <th>1</th>\n",
       "      <td>2</td>\n",
       "      <td>PERBAK/FASBAT/YEN?LE?T?RME MALZEMELER?</td>\n",
       "      <td>2815-01-111-2262 - 2815011112262</td>\n",
       "      <td>2</td>\n",
       "      <td>2</td>\n",
       "      <td>ENGINE, DIESEL</td>\n",
       "      <td>125</td>\n",
       "      <td>4</td>\n",
       "      <td>1</td>\n",
       "      <td>493</td>\n",
       "      <td>500</td>\n",
       "      <td>500</td>\n",
       "      <td>500</td>\n",
       "      <td>7</td>\n",
       "      <td>84</td>\n",
       "      <td>409</td>\n",
       "      <td>46</td>\n",
       "      <td>18814</td>\n",
       "    </tr>\n",
       "    <tr>\n",
       "      <th>2</th>\n",
       "      <td>3</td>\n",
       "      <td>PERBAK/FASBAT/YEN?LE?T?RME MALZEMELER?</td>\n",
       "      <td>2815-01-461-7078 - 2815014617078</td>\n",
       "      <td>3</td>\n",
       "      <td>3</td>\n",
       "      <td>ENGINE, DIESEL</td>\n",
       "      <td>125</td>\n",
       "      <td>3</td>\n",
       "      <td>2</td>\n",
       "      <td>699</td>\n",
       "      <td>750</td>\n",
       "      <td>750</td>\n",
       "      <td>750</td>\n",
       "      <td>51</td>\n",
       "      <td>9</td>\n",
       "      <td>690</td>\n",
       "      <td>110</td>\n",
       "      <td>75900</td>\n",
       "    </tr>\n",
       "    <tr>\n",
       "      <th>3</th>\n",
       "      <td>4</td>\n",
       "      <td>PERBAK/FASBAT/YEN?LE?T?RME MALZEMELER?</td>\n",
       "      <td>2815-00-134-4666 - 2815001344666</td>\n",
       "      <td>4</td>\n",
       "      <td>2</td>\n",
       "      <td>ENGINE, DIESEL</td>\n",
       "      <td>125</td>\n",
       "      <td>1</td>\n",
       "      <td>1</td>\n",
       "      <td>103</td>\n",
       "      <td>125</td>\n",
       "      <td>125</td>\n",
       "      <td>125</td>\n",
       "      <td>22</td>\n",
       "      <td>32</td>\n",
       "      <td>71</td>\n",
       "      <td>223</td>\n",
       "      <td>15833</td>\n",
       "    </tr>\n",
       "    <tr>\n",
       "      <th>4</th>\n",
       "      <td>5</td>\n",
       "      <td>PERBAK/FASBAT/YEN?LE?T?RME MALZEMELER?</td>\n",
       "      <td>2815-01-432-1336 - 2815014321336</td>\n",
       "      <td>5</td>\n",
       "      <td>3</td>\n",
       "      <td>ENGINE, DIESEL</td>\n",
       "      <td>125</td>\n",
       "      <td>2</td>\n",
       "      <td>2</td>\n",
       "      <td>468</td>\n",
       "      <td>500</td>\n",
       "      <td>500</td>\n",
       "      <td>500</td>\n",
       "      <td>32</td>\n",
       "      <td>89</td>\n",
       "      <td>379</td>\n",
       "      <td>245</td>\n",
       "      <td>92855</td>\n",
       "    </tr>\n",
       "  </tbody>\n",
       "</table>\n",
       "</div>"
      ],
      "text/plain": [
       "   S_No                            KullanimAmaci  \\\n",
       "0     1   PERBAK/FASBAT/YEN?LE?T?RME MALZEMELER?   \n",
       "1     2   PERBAK/FASBAT/YEN?LE?T?RME MALZEMELER?   \n",
       "2     3   PERBAK/FASBAT/YEN?LE?T?RME MALZEMELER?   \n",
       "3     4   PERBAK/FASBAT/YEN?LE?T?RME MALZEMELER?   \n",
       "4     5   PERBAK/FASBAT/YEN?LE?T?RME MALZEMELER?   \n",
       "\n",
       "                             StokNo  MalzemeninAdi  MalzemeDegisimPeriyodu  \\\n",
       "0  2815-01-295-7458 - 2815012957458              1                       1   \n",
       "1  2815-01-111-2262 - 2815011112262              2                       2   \n",
       "2  2815-01-461-7078 - 2815014617078              3                       3   \n",
       "3  2815-00-134-4666 - 2815001344666              4                       2   \n",
       "4  2815-01-432-1336 - 2815014321336              5                       3   \n",
       "\n",
       "     AnaMalzemesi  AnaMalzemeMiktari  AraçBasinaKullanimMiktari  \\\n",
       "0  ENGINE, DIESEL                125                          1   \n",
       "1  ENGINE, DIESEL                125                          4   \n",
       "2  ENGINE, DIESEL                125                          3   \n",
       "3  ENGINE, DIESEL                125                          1   \n",
       "4  ENGINE, DIESEL                125                          2   \n",
       "\n",
       "   YilIciIstekYapmaSayisi  04istegi  05istegi  06istegi  IhtiyacMiktari  \\\n",
       "0                       1        79       125       125             125   \n",
       "1                       1       493       500       500             500   \n",
       "2                       2       699       750       750             750   \n",
       "3                       1       103       125       125             125   \n",
       "4                       2       468       500       500             500   \n",
       "\n",
       "   DepoMevcudu  GelecekMiktar  SonihtiyacMiktari  BirimFiyati  \\\n",
       "0           46             42                 37          235   \n",
       "1            7             84                409           46   \n",
       "2           51              9                690          110   \n",
       "3           22             32                 71          223   \n",
       "4           32             89                379          245   \n",
       "\n",
       "   KaynakIhtiyacMiktari  \n",
       "0                  8695  \n",
       "1                 18814  \n",
       "2                 75900  \n",
       "3                 15833  \n",
       "4                 92855  "
      ]
     },
     "execution_count": 9,
     "metadata": {},
     "output_type": "execute_result"
    }
   ],
   "source": [
    "df.head()"
   ]
  },
  {
   "cell_type": "code",
   "execution_count": 10,
   "metadata": {},
   "outputs": [
    {
     "name": "stdout",
     "output_type": "stream",
     "text": [
      "<class 'pandas.core.frame.DataFrame'>\n",
      "RangeIndex: 400 entries, 0 to 399\n",
      "Data columns (total 18 columns):\n",
      " #   Column                     Non-Null Count  Dtype \n",
      "---  ------                     --------------  ----- \n",
      " 0   S_No                       400 non-null    int64 \n",
      " 1   KullanimAmaci              400 non-null    object\n",
      " 2   StokNo                     400 non-null    object\n",
      " 3   MalzemeninAdi              400 non-null    int64 \n",
      " 4   MalzemeDegisimPeriyodu     400 non-null    int64 \n",
      " 5   AnaMalzemesi               400 non-null    object\n",
      " 6   AnaMalzemeMiktari          400 non-null    int64 \n",
      " 7   AraçBasinaKullanimMiktari  400 non-null    int64 \n",
      " 8   YilIciIstekYapmaSayisi     400 non-null    int64 \n",
      " 9   04istegi                   400 non-null    int64 \n",
      " 10  05istegi                   400 non-null    int64 \n",
      " 11  06istegi                   400 non-null    int64 \n",
      " 12  IhtiyacMiktari             400 non-null    int64 \n",
      " 13  DepoMevcudu                400 non-null    int64 \n",
      " 14  GelecekMiktar              400 non-null    int64 \n",
      " 15  SonihtiyacMiktari          400 non-null    int64 \n",
      " 16  BirimFiyati                400 non-null    int64 \n",
      " 17  KaynakIhtiyacMiktari       400 non-null    int64 \n",
      "dtypes: int64(15), object(3)\n",
      "memory usage: 56.4+ KB\n"
     ]
    }
   ],
   "source": [
    "df.info()"
   ]
  },
  {
   "cell_type": "markdown",
   "metadata": {},
   "source": [
    "Sütunlarin herbirinin min, max ve toplam degerlerini bulunuz."
   ]
  },
  {
   "cell_type": "markdown",
   "metadata": {},
   "source": [
    "Stok numarlarini temizleyiniz."
   ]
  },
  {
   "cell_type": "code",
   "execution_count": 11,
   "metadata": {},
   "outputs": [],
   "source": [
    "sutun_adı = 'S_No'\n",
    "df['StokNo'] = df['StokNo'].apply(lambda x: re.sub(r'\\d{13}$', '', x))"
   ]
  },
  {
   "cell_type": "code",
   "execution_count": 12,
   "metadata": {},
   "outputs": [],
   "source": [
    "df[\"StokNo\"] = df[\"StokNo\"].str.replace(\"-\", \"\")"
   ]
  },
  {
   "cell_type": "code",
   "execution_count": 13,
   "metadata": {},
   "outputs": [],
   "source": [
    "df['StokNo'] = pd.to_numeric(df['StokNo'])"
   ]
  },
  {
   "cell_type": "code",
   "execution_count": 14,
   "metadata": {},
   "outputs": [
    {
     "name": "stdout",
     "output_type": "stream",
     "text": [
      "<class 'pandas.core.frame.DataFrame'>\n",
      "RangeIndex: 400 entries, 0 to 399\n",
      "Data columns (total 18 columns):\n",
      " #   Column                     Non-Null Count  Dtype \n",
      "---  ------                     --------------  ----- \n",
      " 0   S_No                       400 non-null    int64 \n",
      " 1   KullanimAmaci              400 non-null    object\n",
      " 2   StokNo                     400 non-null    int64 \n",
      " 3   MalzemeninAdi              400 non-null    int64 \n",
      " 4   MalzemeDegisimPeriyodu     400 non-null    int64 \n",
      " 5   AnaMalzemesi               400 non-null    object\n",
      " 6   AnaMalzemeMiktari          400 non-null    int64 \n",
      " 7   AraçBasinaKullanimMiktari  400 non-null    int64 \n",
      " 8   YilIciIstekYapmaSayisi     400 non-null    int64 \n",
      " 9   04istegi                   400 non-null    int64 \n",
      " 10  05istegi                   400 non-null    int64 \n",
      " 11  06istegi                   400 non-null    int64 \n",
      " 12  IhtiyacMiktari             400 non-null    int64 \n",
      " 13  DepoMevcudu                400 non-null    int64 \n",
      " 14  GelecekMiktar              400 non-null    int64 \n",
      " 15  SonihtiyacMiktari          400 non-null    int64 \n",
      " 16  BirimFiyati                400 non-null    int64 \n",
      " 17  KaynakIhtiyacMiktari       400 non-null    int64 \n",
      "dtypes: int64(16), object(2)\n",
      "memory usage: 56.4+ KB\n"
     ]
    }
   ],
   "source": [
    "df.info()"
   ]
  },
  {
   "cell_type": "markdown",
   "metadata": {},
   "source": [
    "Kac tane malzeme vardir?"
   ]
  },
  {
   "cell_type": "code",
   "execution_count": 15,
   "metadata": {},
   "outputs": [
    {
     "data": {
      "text/plain": [
       "400"
      ]
     },
     "execution_count": 15,
     "metadata": {},
     "output_type": "execute_result"
    }
   ],
   "source": [
    "df[\"S_No\"].value_counts().count()"
   ]
  },
  {
   "cell_type": "markdown",
   "metadata": {},
   "source": [
    "Herbir malzeme degisim periyodundan kacar tane vardir?"
   ]
  },
  {
   "cell_type": "code",
   "execution_count": 16,
   "metadata": {},
   "outputs": [
    {
     "data": {
      "text/plain": [
       "MalzemeDegisimPeriyodu\n",
       "1    146\n",
       "3    132\n",
       "2    122\n",
       "Name: count, dtype: int64"
      ]
     },
     "execution_count": 16,
     "metadata": {},
     "output_type": "execute_result"
    }
   ],
   "source": [
    "df[\"MalzemeDegisimPeriyodu\"].value_counts()"
   ]
  },
  {
   "cell_type": "markdown",
   "metadata": {},
   "source": [
    "Arac basina kullanilan malzeme miktarlari kac cesittir?"
   ]
  },
  {
   "cell_type": "code",
   "execution_count": 17,
   "metadata": {},
   "outputs": [
    {
     "data": {
      "text/plain": [
       "400"
      ]
     },
     "execution_count": 17,
     "metadata": {},
     "output_type": "execute_result"
    }
   ],
   "source": [
    "df[\"AraçBasinaKullanimMiktari\"].count()"
   ]
  },
  {
   "cell_type": "markdown",
   "metadata": {},
   "source": [
    "Arac basina kullanilan malzeme miktarlari cesitlerine göre herbirinden kacar tane vardir?"
   ]
  },
  {
   "cell_type": "code",
   "execution_count": 18,
   "metadata": {},
   "outputs": [
    {
     "data": {
      "text/plain": [
       "AraçBasinaKullanimMiktari\n",
       "2    106\n",
       "4    102\n",
       "3    100\n",
       "1     92\n",
       "Name: count, dtype: int64"
      ]
     },
     "execution_count": 18,
     "metadata": {},
     "output_type": "execute_result"
    }
   ],
   "source": [
    "df[\"AraçBasinaKullanimMiktari\"].value_counts()"
   ]
  },
  {
   "cell_type": "markdown",
   "metadata": {},
   "source": [
    "Yil ici istek yapma sayisi miktarlari kac cesittir?"
   ]
  },
  {
   "cell_type": "markdown",
   "metadata": {},
   "source": [
    "Yil ici istek yapma sayisi cesitlerine göre herbirinden kacar tane vardir?"
   ]
  },
  {
   "cell_type": "code",
   "execution_count": 19,
   "metadata": {},
   "outputs": [
    {
     "data": {
      "text/plain": [
       "YilIciIstekYapmaSayisi\n",
       "1    268\n",
       "2    132\n",
       "Name: count, dtype: int64"
      ]
     },
     "execution_count": 19,
     "metadata": {},
     "output_type": "execute_result"
    }
   ],
   "source": [
    "df[\"YilIciIstekYapmaSayisi\"].value_counts()"
   ]
  },
  {
   "cell_type": "markdown",
   "metadata": {},
   "source": [
    "04 isteginde en fazla hangi kalem icin istek yapilmistir?"
   ]
  },
  {
   "cell_type": "code",
   "execution_count": 20,
   "metadata": {},
   "outputs": [
    {
     "name": "stdout",
     "output_type": "stream",
     "text": [
      "04istegi\n",
      "65      2815015236667\n",
      "66      2815016109750\n",
      "68      2815015502615\n",
      "69      2815016100464\n",
      "73      2815016131228\n",
      "            ...      \n",
      "994     2815014622289\n",
      "995     2815017075541\n",
      "996     2815014198704\n",
      "998     2815009611686\n",
      "1000    2815015454366\n",
      "Name: StokNo, Length: 228, dtype: int64\n"
     ]
    }
   ],
   "source": [
    "result = df.groupby(\n",
    "    '04istegi')['StokNo'].max()\n",
    "print(result)"
   ]
  },
  {
   "cell_type": "markdown",
   "metadata": {},
   "source": [
    "04 isteginde en az hangi kalem icin istek yapilmistir?"
   ]
  },
  {
   "cell_type": "code",
   "execution_count": 21,
   "metadata": {},
   "outputs": [
    {
     "name": "stdout",
     "output_type": "stream",
     "text": [
      "04istegi\n",
      "65      2815015236667\n",
      "66      2815016109750\n",
      "68      2815010465861\n",
      "69      2815000712314\n",
      "73      2815015408958\n",
      "            ...      \n",
      "994     2815014622289\n",
      "995     2815016760880\n",
      "996     2815011617697\n",
      "998     2815009611686\n",
      "1000    2815015454366\n",
      "Name: StokNo, Length: 228, dtype: int64\n"
     ]
    }
   ],
   "source": [
    "result1 = df.groupby('04istegi')['StokNo'].min()\n",
    "print(result1)"
   ]
  },
  {
   "cell_type": "markdown",
   "metadata": {},
   "source": [
    "04 isteginde ortalama  istek ne kdardir?"
   ]
  },
  {
   "cell_type": "code",
   "execution_count": 22,
   "metadata": {},
   "outputs": [
    {
     "data": {
      "text/plain": [
       "389.6825"
      ]
     },
     "execution_count": 22,
     "metadata": {},
     "output_type": "execute_result"
    }
   ],
   "source": [
    "df[\"04istegi\"].mean()"
   ]
  },
  {
   "cell_type": "markdown",
   "metadata": {},
   "source": [
    "05 isteginde en fazla hangi kalem icin istek yapilmistir?"
   ]
  },
  {
   "cell_type": "code",
   "execution_count": 23,
   "metadata": {},
   "outputs": [
    {
     "name": "stdout",
     "output_type": "stream",
     "text": [
      "05istegi\n",
      "125     2815017141109\n",
      "250     2815121665740\n",
      "375     2815017150237\n",
      "500     2815017141256\n",
      "750     2815017122859\n",
      "1000    2815017082428\n",
      "Name: StokNo, dtype: int64\n"
     ]
    }
   ],
   "source": [
    "result2 = df.groupby(\n",
    "    '05istegi')['StokNo'].max()\n",
    "print(result2)"
   ]
  },
  {
   "cell_type": "markdown",
   "metadata": {},
   "source": [
    "05 isteginde en az hangi kalem icin istek yapilmistir?"
   ]
  },
  {
   "cell_type": "code",
   "execution_count": 24,
   "metadata": {},
   "outputs": [
    {
     "name": "stdout",
     "output_type": "stream",
     "text": [
      "05istegi\n",
      "125     2815000712314\n",
      "250     2815000660199\n",
      "375     2815000100217\n",
      "500     2815000456865\n",
      "750     2815000540244\n",
      "1000    2815009611686\n",
      "Name: StokNo, dtype: int64\n"
     ]
    }
   ],
   "source": [
    "result3 = df.groupby(\n",
    "    '05istegi')['StokNo'].min()\n",
    "print(result3)"
   ]
  },
  {
   "cell_type": "code",
   "execution_count": 25,
   "metadata": {},
   "outputs": [
    {
     "data": {
      "text/plain": [
       "125"
      ]
     },
     "execution_count": 25,
     "metadata": {},
     "output_type": "execute_result"
    }
   ],
   "source": [
    "df[\"05istegi\"].min()"
   ]
  },
  {
   "cell_type": "markdown",
   "metadata": {},
   "source": [
    "05 isteginde ortalama  istek ne kadardir?"
   ]
  },
  {
   "cell_type": "code",
   "execution_count": 26,
   "metadata": {},
   "outputs": [
    {
     "data": {
      "text/plain": [
       "420.0"
      ]
     },
     "execution_count": 26,
     "metadata": {},
     "output_type": "execute_result"
    }
   ],
   "source": [
    "df[\"05istegi\"].mean()"
   ]
  },
  {
   "cell_type": "markdown",
   "metadata": {},
   "source": [
    "06 isteginde en fazla hangi kalem icin istek yapilmistir?"
   ]
  },
  {
   "cell_type": "code",
   "execution_count": 27,
   "metadata": {},
   "outputs": [
    {
     "name": "stdout",
     "output_type": "stream",
     "text": [
      "06istegi\n",
      "125     2815017141109\n",
      "250     2815121665740\n",
      "375     2815017150237\n",
      "500     2815017141256\n",
      "750     2815017122859\n",
      "1000    2815017082428\n",
      "Name: StokNo, dtype: int64\n"
     ]
    }
   ],
   "source": [
    "result4 = df.groupby(\n",
    "    '06istegi')['StokNo'].max()\n",
    "print(result4)"
   ]
  },
  {
   "cell_type": "code",
   "execution_count": 28,
   "metadata": {},
   "outputs": [
    {
     "data": {
      "text/plain": [
       "1000"
      ]
     },
     "execution_count": 28,
     "metadata": {},
     "output_type": "execute_result"
    }
   ],
   "source": [
    "df[\"06istegi\"].max()"
   ]
  },
  {
   "cell_type": "markdown",
   "metadata": {},
   "source": [
    "06 isteginde en az hangi kalem icin istek yapilmistir?"
   ]
  },
  {
   "cell_type": "code",
   "execution_count": 29,
   "metadata": {},
   "outputs": [
    {
     "name": "stdout",
     "output_type": "stream",
     "text": [
      "06istegi\n",
      "125     2815000712314\n",
      "250     2815000660199\n",
      "375     2815000100217\n",
      "500     2815000456865\n",
      "750     2815000540244\n",
      "1000    2815009611686\n",
      "Name: StokNo, dtype: int64\n"
     ]
    }
   ],
   "source": [
    "result5 = df.groupby(\n",
    "    '06istegi')['StokNo'].min()\n",
    "print(result5)"
   ]
  },
  {
   "cell_type": "markdown",
   "metadata": {},
   "source": [
    "06 isteginde en az istek miktari kactir?"
   ]
  },
  {
   "cell_type": "code",
   "execution_count": 30,
   "metadata": {},
   "outputs": [
    {
     "data": {
      "text/plain": [
       "125"
      ]
     },
     "execution_count": 30,
     "metadata": {},
     "output_type": "execute_result"
    }
   ],
   "source": [
    "df['06istegi'].min()"
   ]
  },
  {
   "cell_type": "markdown",
   "metadata": {},
   "source": [
    "06 isteginde ortalama  istek ne kadardir?"
   ]
  },
  {
   "cell_type": "code",
   "execution_count": 31,
   "metadata": {},
   "outputs": [
    {
     "data": {
      "text/plain": [
       "420.0"
      ]
     },
     "execution_count": 31,
     "metadata": {},
     "output_type": "execute_result"
    }
   ],
   "source": [
    "df[\"06istegi\"].mean()"
   ]
  },
  {
   "cell_type": "markdown",
   "metadata": {},
   "source": [
    "Ihtiyac miktari en fazla olan kalem hangisidir?"
   ]
  },
  {
   "cell_type": "code",
   "execution_count": 32,
   "metadata": {},
   "outputs": [
    {
     "name": "stdout",
     "output_type": "stream",
     "text": [
      "IhtiyacMiktari\n",
      "125     2815017141109\n",
      "250     2815121665740\n",
      "375     2815017150237\n",
      "500     2815017141256\n",
      "750     2815017122859\n",
      "1000    2815017082428\n",
      "Name: StokNo, dtype: int64\n"
     ]
    }
   ],
   "source": [
    "result6 = df.groupby(\n",
    "    'IhtiyacMiktari')['StokNo'].max()\n",
    "print(result6)"
   ]
  },
  {
   "cell_type": "markdown",
   "metadata": {},
   "source": [
    "Birlik Ihtiyac Miktari maksimum kactir kactir?"
   ]
  },
  {
   "cell_type": "code",
   "execution_count": 33,
   "metadata": {},
   "outputs": [
    {
     "data": {
      "text/plain": [
       "1000"
      ]
     },
     "execution_count": 33,
     "metadata": {},
     "output_type": "execute_result"
    }
   ],
   "source": [
    "df[\"IhtiyacMiktari\"].max()"
   ]
  },
  {
   "cell_type": "markdown",
   "metadata": {},
   "source": [
    "Birlik ihtiyac miktari en az olan kalem hangisidir?"
   ]
  },
  {
   "cell_type": "code",
   "execution_count": 34,
   "metadata": {},
   "outputs": [
    {
     "name": "stdout",
     "output_type": "stream",
     "text": [
      "IhtiyacMiktari\n",
      "125     2815000712314\n",
      "250     2815000660199\n",
      "375     2815000100217\n",
      "500     2815000456865\n",
      "750     2815000540244\n",
      "1000    2815009611686\n",
      "Name: StokNo, dtype: int64\n"
     ]
    }
   ],
   "source": [
    "result7 = df.groupby(\n",
    "    'IhtiyacMiktari')['StokNo'].min()\n",
    "print(result7)"
   ]
  },
  {
   "cell_type": "code",
   "execution_count": 35,
   "metadata": {},
   "outputs": [
    {
     "data": {
      "text/plain": [
       "125"
      ]
     },
     "execution_count": 35,
     "metadata": {},
     "output_type": "execute_result"
    }
   ],
   "source": [
    "df[\"IhtiyacMiktari\"].min()"
   ]
  },
  {
   "cell_type": "markdown",
   "metadata": {},
   "source": [
    "Birlik ihtiyac miktari ortalama ne kadardir?"
   ]
  },
  {
   "cell_type": "code",
   "execution_count": 36,
   "metadata": {},
   "outputs": [
    {
     "data": {
      "text/plain": [
       "420.0"
      ]
     },
     "execution_count": 36,
     "metadata": {},
     "output_type": "execute_result"
    }
   ],
   "source": [
    "df[\"IhtiyacMiktari\"].mean()"
   ]
  },
  {
   "cell_type": "markdown",
   "metadata": {},
   "source": [
    "Depo mevcudu en fazla olan kalem hangisidir?"
   ]
  },
  {
   "cell_type": "code",
   "execution_count": 37,
   "metadata": {},
   "outputs": [
    {
     "name": "stdout",
     "output_type": "stream",
     "text": [
      "DepoMevcudu\n",
      "0     2815017108381\n",
      "1     2815017004253\n",
      "2     2815017141256\n",
      "3     2815016769373\n",
      "4     2815121665740\n",
      "          ...      \n",
      "56    2815017075659\n",
      "57    2815016870649\n",
      "58    2815015732789\n",
      "59    2815016949650\n",
      "60    2815016016892\n",
      "Name: StokNo, Length: 61, dtype: int64\n"
     ]
    }
   ],
   "source": [
    "result7 = df.groupby(\n",
    "    'DepoMevcudu')['StokNo'].max()\n",
    "print(result7)"
   ]
  },
  {
   "cell_type": "code",
   "execution_count": 38,
   "metadata": {},
   "outputs": [
    {
     "data": {
      "text/plain": [
       "60"
      ]
     },
     "execution_count": 38,
     "metadata": {},
     "output_type": "execute_result"
    }
   ],
   "source": [
    "df[\"DepoMevcudu\"].max()"
   ]
  },
  {
   "cell_type": "markdown",
   "metadata": {},
   "source": [
    "Depo mevcudu en az olan kalem hangisidir?"
   ]
  },
  {
   "cell_type": "code",
   "execution_count": 39,
   "metadata": {},
   "outputs": [
    {
     "name": "stdout",
     "output_type": "stream",
     "text": [
      "DepoMevcudu\n",
      "0     2815015406138\n",
      "1     2815015439460\n",
      "2     2815000540244\n",
      "3     2815001061681\n",
      "4     2815011617697\n",
      "          ...      \n",
      "56    2815000712314\n",
      "57    2815010465861\n",
      "58    2815012519138\n",
      "59    2815014190222\n",
      "60    2815013502206\n",
      "Name: StokNo, Length: 61, dtype: int64\n"
     ]
    }
   ],
   "source": [
    "result8 = df.groupby(\n",
    "    'DepoMevcudu')['StokNo'].min()\n",
    "print(result8)"
   ]
  },
  {
   "cell_type": "code",
   "execution_count": 40,
   "metadata": {},
   "outputs": [
    {
     "data": {
      "text/plain": [
       "0"
      ]
     },
     "execution_count": 40,
     "metadata": {},
     "output_type": "execute_result"
    }
   ],
   "source": [
    "df[\"DepoMevcudu\"].min()"
   ]
  },
  {
   "cell_type": "markdown",
   "metadata": {},
   "source": [
    "Depo mevcudu ortalama ne kadardir?"
   ]
  },
  {
   "cell_type": "code",
   "execution_count": 41,
   "metadata": {},
   "outputs": [
    {
     "data": {
      "text/plain": [
       "30.3175"
      ]
     },
     "execution_count": 41,
     "metadata": {},
     "output_type": "execute_result"
    }
   ],
   "source": [
    "df[\"DepoMevcudu\"].mean()"
   ]
  },
  {
   "cell_type": "markdown",
   "metadata": {},
   "source": [
    "Gelecek miktari en fazla olan kalem hangisidir?"
   ]
  },
  {
   "cell_type": "code",
   "execution_count": 42,
   "metadata": {},
   "outputs": [
    {
     "name": "stdout",
     "output_type": "stream",
     "text": [
      "GelecekMiktar\n",
      "1      2815016954602\n",
      "2      2815015406138\n",
      "3      2815016131384\n",
      "4      2815015990641\n",
      "5      2815016931875\n",
      "           ...      \n",
      "96     2815016905024\n",
      "97     2815016951935\n",
      "98     2815016016892\n",
      "99     2815016779537\n",
      "100    2815016897659\n",
      "Name: StokNo, Length: 99, dtype: int64\n"
     ]
    }
   ],
   "source": [
    "result8 = df.groupby(\n",
    "    'GelecekMiktar')['StokNo'].max()\n",
    "print(result8)"
   ]
  },
  {
   "cell_type": "code",
   "execution_count": 43,
   "metadata": {},
   "outputs": [
    {
     "data": {
      "text/plain": [
       "100"
      ]
     },
     "execution_count": 43,
     "metadata": {},
     "output_type": "execute_result"
    }
   ],
   "source": [
    "df[\"GelecekMiktar\"].max()"
   ]
  },
  {
   "cell_type": "markdown",
   "metadata": {},
   "source": [
    "Gelecek miktari en az olan kalem hangisidir?"
   ]
  },
  {
   "cell_type": "code",
   "execution_count": 44,
   "metadata": {},
   "outputs": [
    {
     "name": "stdout",
     "output_type": "stream",
     "text": [
      "GelecekMiktar\n",
      "1      2815002254786\n",
      "2      2815015234601\n",
      "3      2815001032641\n",
      "4      2815011491353\n",
      "5      2815015179322\n",
      "           ...      \n",
      "96     2815015208589\n",
      "97     2815001061681\n",
      "98     2815014122715\n",
      "99     2815014623596\n",
      "100    2815009380586\n",
      "Name: StokNo, Length: 99, dtype: int64\n"
     ]
    }
   ],
   "source": [
    "result9 = df.groupby(\n",
    "    'GelecekMiktar')['StokNo'].min()\n",
    "print(result9)"
   ]
  },
  {
   "cell_type": "code",
   "execution_count": 45,
   "metadata": {},
   "outputs": [
    {
     "data": {
      "text/plain": [
       "1"
      ]
     },
     "execution_count": 45,
     "metadata": {},
     "output_type": "execute_result"
    }
   ],
   "source": [
    "df[\"GelecekMiktar\"].min()"
   ]
  },
  {
   "cell_type": "markdown",
   "metadata": {},
   "source": [
    "Gelecek miktari ortalama ne kadardir?"
   ]
  },
  {
   "cell_type": "code",
   "execution_count": 46,
   "metadata": {},
   "outputs": [
    {
     "data": {
      "text/plain": [
       "50.625"
      ]
     },
     "execution_count": 46,
     "metadata": {},
     "output_type": "execute_result"
    }
   ],
   "source": [
    "df[\"GelecekMiktar\"].mean()"
   ]
  },
  {
   "cell_type": "markdown",
   "metadata": {},
   "source": [
    "Son ihtiyac miktari en fazla olan kalem hangisidir?"
   ]
  },
  {
   "cell_type": "code",
   "execution_count": 47,
   "metadata": {},
   "outputs": [
    {
     "name": "stdout",
     "output_type": "stream",
     "text": [
      "SonihtiyacMiktari\n",
      "-29     2815015771838\n",
      "-21     2815016905024\n",
      "-20     2815016131228\n",
      "-12     2815003607776\n",
      "-7      2815016908192\n",
      "            ...      \n",
      " 953    2815011617697\n",
      " 968    2815014622289\n",
      " 976    2815015907339\n",
      " 983    2815014198704\n",
      " 997    2815015454366\n",
      "Name: StokNo, Length: 292, dtype: int64\n"
     ]
    }
   ],
   "source": [
    "result10 = df.groupby(\n",
    "    'SonihtiyacMiktari')['StokNo'].max()\n",
    "print(result10)"
   ]
  },
  {
   "cell_type": "code",
   "execution_count": 48,
   "metadata": {},
   "outputs": [
    {
     "data": {
      "text/plain": [
       "997"
      ]
     },
     "execution_count": 48,
     "metadata": {},
     "output_type": "execute_result"
    }
   ],
   "source": [
    "df[\"SonihtiyacMiktari\"].max()"
   ]
  },
  {
   "cell_type": "markdown",
   "metadata": {},
   "source": [
    "Son ihtiyac miktari en az olan kalem hangisidir?"
   ]
  },
  {
   "cell_type": "code",
   "execution_count": 49,
   "metadata": {},
   "outputs": [
    {
     "name": "stdout",
     "output_type": "stream",
     "text": [
      "SonihtiyacMiktari\n",
      "-29     2815015771838\n",
      "-21     2815016905024\n",
      "-20     2815000712314\n",
      "-12     2815003607776\n",
      "-7      2815016908192\n",
      "            ...      \n",
      " 953    2815011617697\n",
      " 968    2815014622289\n",
      " 976    2815015907339\n",
      " 983    2815014198704\n",
      " 997    2815015454366\n",
      "Name: StokNo, Length: 292, dtype: int64\n"
     ]
    }
   ],
   "source": [
    "result11 = df.groupby(\n",
    "    'SonihtiyacMiktari')['StokNo'].min()\n",
    "print(result11)"
   ]
  },
  {
   "cell_type": "code",
   "execution_count": 50,
   "metadata": {},
   "outputs": [
    {
     "data": {
      "text/plain": [
       "-29"
      ]
     },
     "execution_count": 50,
     "metadata": {},
     "output_type": "execute_result"
    }
   ],
   "source": [
    "df[\"SonihtiyacMiktari\"].min()"
   ]
  },
  {
   "cell_type": "markdown",
   "metadata": {},
   "source": [
    "Son ihtiyac miktari ortalama ne kadardir?"
   ]
  },
  {
   "cell_type": "code",
   "execution_count": 51,
   "metadata": {},
   "outputs": [
    {
     "data": {
      "text/plain": [
       "339.0575"
      ]
     },
     "execution_count": 51,
     "metadata": {},
     "output_type": "execute_result"
    }
   ],
   "source": [
    "df[\"SonihtiyacMiktari\"].mean()"
   ]
  },
  {
   "cell_type": "markdown",
   "metadata": {},
   "source": [
    "Birim fiyati en fazla olan kalem hangisidir?"
   ]
  },
  {
   "cell_type": "code",
   "execution_count": 52,
   "metadata": {},
   "outputs": [
    {
     "name": "stdout",
     "output_type": "stream",
     "text": [
      "BirimFiyati\n",
      "1      2815016984724\n",
      "2      2815017082786\n",
      "4      2815015907339\n",
      "5      2815015950954\n",
      "6      2815015466234\n",
      "           ...      \n",
      "245    2815014321336\n",
      "246    2815017075659\n",
      "247    2815016998491\n",
      "248    2815016894298\n",
      "249    2815015773192\n",
      "Name: StokNo, Length: 193, dtype: int64\n"
     ]
    }
   ],
   "source": [
    "result12 = df.groupby(\n",
    "    'BirimFiyati')['StokNo'].max()\n",
    "print(result12)"
   ]
  },
  {
   "cell_type": "code",
   "execution_count": 53,
   "metadata": {},
   "outputs": [
    {
     "data": {
      "text/plain": [
       "249"
      ]
     },
     "execution_count": 53,
     "metadata": {},
     "output_type": "execute_result"
    }
   ],
   "source": [
    "df[\"BirimFiyati\"].max()"
   ]
  },
  {
   "cell_type": "markdown",
   "metadata": {},
   "source": [
    "Birim fiyati en az olan kalem hangisidir?"
   ]
  },
  {
   "cell_type": "code",
   "execution_count": 54,
   "metadata": {},
   "outputs": [
    {
     "name": "stdout",
     "output_type": "stream",
     "text": [
      "BirimFiyati\n",
      "1      2815010320976\n",
      "2      2815017082786\n",
      "4      2815013502206\n",
      "5      2815015950954\n",
      "6      2815010459420\n",
      "           ...      \n",
      "245    2815014321336\n",
      "246    2815012391775\n",
      "247    2815015780468\n",
      "248    2815016894298\n",
      "249    2815001032641\n",
      "Name: StokNo, Length: 193, dtype: int64\n"
     ]
    }
   ],
   "source": [
    "result13 = df.groupby(\n",
    "    'BirimFiyati')['StokNo'].min()\n",
    "print(result13)"
   ]
  },
  {
   "cell_type": "code",
   "execution_count": 55,
   "metadata": {},
   "outputs": [
    {
     "data": {
      "text/plain": [
       "1"
      ]
     },
     "execution_count": 55,
     "metadata": {},
     "output_type": "execute_result"
    }
   ],
   "source": [
    "df[\"BirimFiyati\"].min()"
   ]
  },
  {
   "cell_type": "markdown",
   "metadata": {},
   "source": [
    "Birim fiyati ortalama ne kadardir?\n"
   ]
  },
  {
   "cell_type": "code",
   "execution_count": 56,
   "metadata": {},
   "outputs": [
    {
     "data": {
      "text/plain": [
       "127.3425"
      ]
     },
     "execution_count": 56,
     "metadata": {},
     "output_type": "execute_result"
    }
   ],
   "source": [
    "df[\"BirimFiyati\"].mean()"
   ]
  },
  {
   "cell_type": "markdown",
   "metadata": {},
   "source": [
    "Kaynak ihtiyac miktari en fazla olan kalem hangisidir?"
   ]
  },
  {
   "cell_type": "code",
   "execution_count": 57,
   "metadata": {},
   "outputs": [
    {
     "name": "stdout",
     "output_type": "stream",
     "text": [
      "KaynakIhtiyacMiktari\n",
      "-5249      2815015771838\n",
      "-4440      2815016100464\n",
      "-1780      2815016131228\n",
      "-1640      2815000712314\n",
      "-1260      2815003607776\n",
      "               ...      \n",
      " 212940    2815016837921\n",
      " 216430    2815017082428\n",
      " 218722    2815015685759\n",
      " 220332    2815015626787\n",
      " 234608    2815016894298\n",
      "Name: StokNo, Length: 399, dtype: int64\n"
     ]
    }
   ],
   "source": [
    "result14 = df.groupby(\n",
    "    'KaynakIhtiyacMiktari')['StokNo'].max()\n",
    "print(result14)"
   ]
  },
  {
   "cell_type": "code",
   "execution_count": 58,
   "metadata": {},
   "outputs": [
    {
     "data": {
      "text/plain": [
       "234608"
      ]
     },
     "execution_count": 58,
     "metadata": {},
     "output_type": "execute_result"
    }
   ],
   "source": [
    "df[\"KaynakIhtiyacMiktari\"].max()"
   ]
  },
  {
   "cell_type": "markdown",
   "metadata": {},
   "source": [
    "Kaynak ihtiyac miktari en az olan kalem hangisidir?"
   ]
  },
  {
   "cell_type": "code",
   "execution_count": 59,
   "metadata": {},
   "outputs": [
    {
     "name": "stdout",
     "output_type": "stream",
     "text": [
      "KaynakIhtiyacMiktari\n",
      "-5249      2815015771838\n",
      "-4440      2815016100464\n",
      "-1780      2815016131228\n",
      "-1640      2815000712314\n",
      "-1260      2815003607776\n",
      "               ...      \n",
      " 212940    2815016837921\n",
      " 216430    2815017082428\n",
      " 218722    2815015685759\n",
      " 220332    2815015626787\n",
      " 234608    2815016894298\n",
      "Name: StokNo, Length: 399, dtype: int64\n"
     ]
    }
   ],
   "source": [
    "result16 = df.groupby(\n",
    "    'KaynakIhtiyacMiktari')['StokNo'].min()\n",
    "print(result16)"
   ]
  },
  {
   "cell_type": "code",
   "execution_count": 60,
   "metadata": {},
   "outputs": [
    {
     "data": {
      "text/plain": [
       "-5249"
      ]
     },
     "execution_count": 60,
     "metadata": {},
     "output_type": "execute_result"
    }
   ],
   "source": [
    "df[\"KaynakIhtiyacMiktari\"].min()"
   ]
  },
  {
   "cell_type": "markdown",
   "metadata": {},
   "source": [
    "Kaynak ihtiyac miktari ortalama ne kadardir?"
   ]
  },
  {
   "cell_type": "code",
   "execution_count": 61,
   "metadata": {},
   "outputs": [
    {
     "data": {
      "text/plain": [
       "42650.5075"
      ]
     },
     "execution_count": 61,
     "metadata": {},
     "output_type": "execute_result"
    }
   ],
   "source": [
    "df[\"KaynakIhtiyacMiktari\"].mean()"
   ]
  }
 ],
 "metadata": {
  "kernelspec": {
   "display_name": "base",
   "language": "python",
   "name": "python3"
  },
  "language_info": {
   "codemirror_mode": {
    "name": "ipython",
    "version": 3
   },
   "file_extension": ".py",
   "mimetype": "text/x-python",
   "name": "python",
   "nbconvert_exporter": "python",
   "pygments_lexer": "ipython3",
   "version": "3.11.5"
  }
 },
 "nbformat": 4,
 "nbformat_minor": 2
}
